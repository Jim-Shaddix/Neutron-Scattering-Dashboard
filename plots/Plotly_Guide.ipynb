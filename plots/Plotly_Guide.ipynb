{
 "cells": [
  {
   "cell_type": "markdown",
   "metadata": {},
   "source": [
    "# Plotly"
   ]
  },
  {
   "cell_type": "markdown",
   "metadata": {},
   "source": [
    "\n",
    "#### Notes\n",
    "* [update figures](https://plot.ly/python/creating-and-updating-figures/)\n",
    "* [upgrade to version 4](https://plot.ly/python/v4-migration/)\n",
    "* [Getting to know plotly](https://towardsdatascience.com/its-2019-make-your-data-visualizations-interactive-with-plotly-b361e7d45dc6)\n",
    "* [plotly getting started](https://plot.ly/python/getting-started-with-chart-studio/)\n",
    "\n",
    "\n",
    "**chart Studio**: Package used for making online plots. Chart studio online is a way to interactively modify plots.\n",
    "\n",
    "**cufflinks**:\n",
    "**express**\n",
    "\n",
    "* **ipywidgets**: apparently this gives another method for plotly figures. `go.FigureWidget()` [with plotly](https://plot.ly/python/figurewidget/)."
   ]
  },
  {
   "cell_type": "code",
   "execution_count": 20,
   "metadata": {},
   "outputs": [
    {
     "data": {
      "text/plain": [
       "Renderers configuration\n",
       "-----------------------\n",
       "    Default renderer: 'jupyterlab'\n",
       "    Available renderers:\n",
       "        ['plotly_mimetype', 'jupyterlab', 'nteract', 'vscode',\n",
       "         'notebook', 'notebook_connected', 'kaggle', 'azure', 'colab',\n",
       "         'json', 'png', 'jpeg', 'jpg', 'svg', 'pdf', 'browser',\n",
       "         'firefox', 'chrome', 'chromium', 'iframe', 'iframe_connected',\n",
       "         'sphinx_gallery']"
      ]
     },
     "execution_count": 20,
     "metadata": {},
     "output_type": "execute_result"
    }
   ],
   "source": [
    "import plotly.io as pio\n",
    "pio.renderers"
   ]
  },
  {
   "cell_type": "code",
   "execution_count": 21,
   "metadata": {},
   "outputs": [],
   "source": [
    "pio.renderers.default = \"jupyterlab\""
   ]
  },
  {
   "cell_type": "code",
   "execution_count": 22,
   "metadata": {},
   "outputs": [
    {
     "data": {
      "application/vnd.plotly.v1+json": {
       "config": {
        "plotlyServerURL": "https://plot.ly"
       },
       "data": [
        {
         "type": "bar",
         "y": [
          2,
          1,
          3
         ]
        }
       ],
       "layout": {
        "autosize": true,
        "template": {
         "data": {
          "bar": [
           {
            "error_x": {
             "color": "#2a3f5f"
            },
            "error_y": {
             "color": "#2a3f5f"
            },
            "marker": {
             "line": {
              "color": "#E5ECF6",
              "width": 0.5
             }
            },
            "type": "bar"
           }
          ],
          "barpolar": [
           {
            "marker": {
             "line": {
              "color": "#E5ECF6",
              "width": 0.5
             }
            },
            "type": "barpolar"
           }
          ],
          "carpet": [
           {
            "aaxis": {
             "endlinecolor": "#2a3f5f",
             "gridcolor": "white",
             "linecolor": "white",
             "minorgridcolor": "white",
             "startlinecolor": "#2a3f5f"
            },
            "baxis": {
             "endlinecolor": "#2a3f5f",
             "gridcolor": "white",
             "linecolor": "white",
             "minorgridcolor": "white",
             "startlinecolor": "#2a3f5f"
            },
            "type": "carpet"
           }
          ],
          "choropleth": [
           {
            "colorbar": {
             "outlinewidth": 0,
             "ticks": ""
            },
            "type": "choropleth"
           }
          ],
          "contour": [
           {
            "colorbar": {
             "outlinewidth": 0,
             "ticks": ""
            },
            "colorscale": [
             [
              0,
              "#0d0887"
             ],
             [
              0.1111111111111111,
              "#46039f"
             ],
             [
              0.2222222222222222,
              "#7201a8"
             ],
             [
              0.3333333333333333,
              "#9c179e"
             ],
             [
              0.4444444444444444,
              "#bd3786"
             ],
             [
              0.5555555555555556,
              "#d8576b"
             ],
             [
              0.6666666666666666,
              "#ed7953"
             ],
             [
              0.7777777777777778,
              "#fb9f3a"
             ],
             [
              0.8888888888888888,
              "#fdca26"
             ],
             [
              1,
              "#f0f921"
             ]
            ],
            "type": "contour"
           }
          ],
          "contourcarpet": [
           {
            "colorbar": {
             "outlinewidth": 0,
             "ticks": ""
            },
            "type": "contourcarpet"
           }
          ],
          "heatmap": [
           {
            "colorbar": {
             "outlinewidth": 0,
             "ticks": ""
            },
            "colorscale": [
             [
              0,
              "#0d0887"
             ],
             [
              0.1111111111111111,
              "#46039f"
             ],
             [
              0.2222222222222222,
              "#7201a8"
             ],
             [
              0.3333333333333333,
              "#9c179e"
             ],
             [
              0.4444444444444444,
              "#bd3786"
             ],
             [
              0.5555555555555556,
              "#d8576b"
             ],
             [
              0.6666666666666666,
              "#ed7953"
             ],
             [
              0.7777777777777778,
              "#fb9f3a"
             ],
             [
              0.8888888888888888,
              "#fdca26"
             ],
             [
              1,
              "#f0f921"
             ]
            ],
            "type": "heatmap"
           }
          ],
          "heatmapgl": [
           {
            "colorbar": {
             "outlinewidth": 0,
             "ticks": ""
            },
            "colorscale": [
             [
              0,
              "#0d0887"
             ],
             [
              0.1111111111111111,
              "#46039f"
             ],
             [
              0.2222222222222222,
              "#7201a8"
             ],
             [
              0.3333333333333333,
              "#9c179e"
             ],
             [
              0.4444444444444444,
              "#bd3786"
             ],
             [
              0.5555555555555556,
              "#d8576b"
             ],
             [
              0.6666666666666666,
              "#ed7953"
             ],
             [
              0.7777777777777778,
              "#fb9f3a"
             ],
             [
              0.8888888888888888,
              "#fdca26"
             ],
             [
              1,
              "#f0f921"
             ]
            ],
            "type": "heatmapgl"
           }
          ],
          "histogram": [
           {
            "marker": {
             "colorbar": {
              "outlinewidth": 0,
              "ticks": ""
             }
            },
            "type": "histogram"
           }
          ],
          "histogram2d": [
           {
            "colorbar": {
             "outlinewidth": 0,
             "ticks": ""
            },
            "colorscale": [
             [
              0,
              "#0d0887"
             ],
             [
              0.1111111111111111,
              "#46039f"
             ],
             [
              0.2222222222222222,
              "#7201a8"
             ],
             [
              0.3333333333333333,
              "#9c179e"
             ],
             [
              0.4444444444444444,
              "#bd3786"
             ],
             [
              0.5555555555555556,
              "#d8576b"
             ],
             [
              0.6666666666666666,
              "#ed7953"
             ],
             [
              0.7777777777777778,
              "#fb9f3a"
             ],
             [
              0.8888888888888888,
              "#fdca26"
             ],
             [
              1,
              "#f0f921"
             ]
            ],
            "type": "histogram2d"
           }
          ],
          "histogram2dcontour": [
           {
            "colorbar": {
             "outlinewidth": 0,
             "ticks": ""
            },
            "colorscale": [
             [
              0,
              "#0d0887"
             ],
             [
              0.1111111111111111,
              "#46039f"
             ],
             [
              0.2222222222222222,
              "#7201a8"
             ],
             [
              0.3333333333333333,
              "#9c179e"
             ],
             [
              0.4444444444444444,
              "#bd3786"
             ],
             [
              0.5555555555555556,
              "#d8576b"
             ],
             [
              0.6666666666666666,
              "#ed7953"
             ],
             [
              0.7777777777777778,
              "#fb9f3a"
             ],
             [
              0.8888888888888888,
              "#fdca26"
             ],
             [
              1,
              "#f0f921"
             ]
            ],
            "type": "histogram2dcontour"
           }
          ],
          "mesh3d": [
           {
            "colorbar": {
             "outlinewidth": 0,
             "ticks": ""
            },
            "type": "mesh3d"
           }
          ],
          "parcoords": [
           {
            "line": {
             "colorbar": {
              "outlinewidth": 0,
              "ticks": ""
             }
            },
            "type": "parcoords"
           }
          ],
          "scatter": [
           {
            "marker": {
             "colorbar": {
              "outlinewidth": 0,
              "ticks": ""
             }
            },
            "type": "scatter"
           }
          ],
          "scatter3d": [
           {
            "line": {
             "colorbar": {
              "outlinewidth": 0,
              "ticks": ""
             }
            },
            "marker": {
             "colorbar": {
              "outlinewidth": 0,
              "ticks": ""
             }
            },
            "type": "scatter3d"
           }
          ],
          "scattercarpet": [
           {
            "marker": {
             "colorbar": {
              "outlinewidth": 0,
              "ticks": ""
             }
            },
            "type": "scattercarpet"
           }
          ],
          "scattergeo": [
           {
            "marker": {
             "colorbar": {
              "outlinewidth": 0,
              "ticks": ""
             }
            },
            "type": "scattergeo"
           }
          ],
          "scattergl": [
           {
            "marker": {
             "colorbar": {
              "outlinewidth": 0,
              "ticks": ""
             }
            },
            "type": "scattergl"
           }
          ],
          "scattermapbox": [
           {
            "marker": {
             "colorbar": {
              "outlinewidth": 0,
              "ticks": ""
             }
            },
            "type": "scattermapbox"
           }
          ],
          "scatterpolar": [
           {
            "marker": {
             "colorbar": {
              "outlinewidth": 0,
              "ticks": ""
             }
            },
            "type": "scatterpolar"
           }
          ],
          "scatterpolargl": [
           {
            "marker": {
             "colorbar": {
              "outlinewidth": 0,
              "ticks": ""
             }
            },
            "type": "scatterpolargl"
           }
          ],
          "scatterternary": [
           {
            "marker": {
             "colorbar": {
              "outlinewidth": 0,
              "ticks": ""
             }
            },
            "type": "scatterternary"
           }
          ],
          "surface": [
           {
            "colorbar": {
             "outlinewidth": 0,
             "ticks": ""
            },
            "colorscale": [
             [
              0,
              "#0d0887"
             ],
             [
              0.1111111111111111,
              "#46039f"
             ],
             [
              0.2222222222222222,
              "#7201a8"
             ],
             [
              0.3333333333333333,
              "#9c179e"
             ],
             [
              0.4444444444444444,
              "#bd3786"
             ],
             [
              0.5555555555555556,
              "#d8576b"
             ],
             [
              0.6666666666666666,
              "#ed7953"
             ],
             [
              0.7777777777777778,
              "#fb9f3a"
             ],
             [
              0.8888888888888888,
              "#fdca26"
             ],
             [
              1,
              "#f0f921"
             ]
            ],
            "type": "surface"
           }
          ],
          "table": [
           {
            "cells": {
             "fill": {
              "color": "#EBF0F8"
             },
             "line": {
              "color": "white"
             }
            },
            "header": {
             "fill": {
              "color": "#C8D4E3"
             },
             "line": {
              "color": "white"
             }
            },
            "type": "table"
           }
          ]
         },
         "layout": {
          "annotationdefaults": {
           "arrowcolor": "#2a3f5f",
           "arrowhead": 0,
           "arrowwidth": 1
          },
          "colorscale": {
           "diverging": [
            [
             0,
             "#8e0152"
            ],
            [
             0.1,
             "#c51b7d"
            ],
            [
             0.2,
             "#de77ae"
            ],
            [
             0.3,
             "#f1b6da"
            ],
            [
             0.4,
             "#fde0ef"
            ],
            [
             0.5,
             "#f7f7f7"
            ],
            [
             0.6,
             "#e6f5d0"
            ],
            [
             0.7,
             "#b8e186"
            ],
            [
             0.8,
             "#7fbc41"
            ],
            [
             0.9,
             "#4d9221"
            ],
            [
             1,
             "#276419"
            ]
           ],
           "sequential": [
            [
             0,
             "#0d0887"
            ],
            [
             0.1111111111111111,
             "#46039f"
            ],
            [
             0.2222222222222222,
             "#7201a8"
            ],
            [
             0.3333333333333333,
             "#9c179e"
            ],
            [
             0.4444444444444444,
             "#bd3786"
            ],
            [
             0.5555555555555556,
             "#d8576b"
            ],
            [
             0.6666666666666666,
             "#ed7953"
            ],
            [
             0.7777777777777778,
             "#fb9f3a"
            ],
            [
             0.8888888888888888,
             "#fdca26"
            ],
            [
             1,
             "#f0f921"
            ]
           ],
           "sequentialminus": [
            [
             0,
             "#0d0887"
            ],
            [
             0.1111111111111111,
             "#46039f"
            ],
            [
             0.2222222222222222,
             "#7201a8"
            ],
            [
             0.3333333333333333,
             "#9c179e"
            ],
            [
             0.4444444444444444,
             "#bd3786"
            ],
            [
             0.5555555555555556,
             "#d8576b"
            ],
            [
             0.6666666666666666,
             "#ed7953"
            ],
            [
             0.7777777777777778,
             "#fb9f3a"
            ],
            [
             0.8888888888888888,
             "#fdca26"
            ],
            [
             1,
             "#f0f921"
            ]
           ]
          },
          "colorway": [
           "#636efa",
           "#EF553B",
           "#00cc96",
           "#ab63fa",
           "#FFA15A",
           "#19d3f3",
           "#FF6692",
           "#B6E880",
           "#FF97FF",
           "#FECB52"
          ],
          "font": {
           "color": "#2a3f5f"
          },
          "geo": {
           "bgcolor": "white",
           "lakecolor": "white",
           "landcolor": "#E5ECF6",
           "showlakes": true,
           "showland": true,
           "subunitcolor": "white"
          },
          "hoverlabel": {
           "align": "left"
          },
          "hovermode": "closest",
          "mapbox": {
           "style": "light"
          },
          "paper_bgcolor": "white",
          "plot_bgcolor": "#E5ECF6",
          "polar": {
           "angularaxis": {
            "gridcolor": "white",
            "linecolor": "white",
            "ticks": ""
           },
           "bgcolor": "#E5ECF6",
           "radialaxis": {
            "gridcolor": "white",
            "linecolor": "white",
            "ticks": ""
           }
          },
          "scene": {
           "xaxis": {
            "backgroundcolor": "#E5ECF6",
            "gridcolor": "white",
            "gridwidth": 2,
            "linecolor": "white",
            "showbackground": true,
            "ticks": "",
            "zerolinecolor": "white"
           },
           "yaxis": {
            "backgroundcolor": "#E5ECF6",
            "gridcolor": "white",
            "gridwidth": 2,
            "linecolor": "white",
            "showbackground": true,
            "ticks": "",
            "zerolinecolor": "white"
           },
           "zaxis": {
            "backgroundcolor": "#E5ECF6",
            "gridcolor": "white",
            "gridwidth": 2,
            "linecolor": "white",
            "showbackground": true,
            "ticks": "",
            "zerolinecolor": "white"
           }
          },
          "shapedefaults": {
           "line": {
            "color": "#2a3f5f"
           }
          },
          "ternary": {
           "aaxis": {
            "gridcolor": "white",
            "linecolor": "white",
            "ticks": ""
           },
           "baxis": {
            "gridcolor": "white",
            "linecolor": "white",
            "ticks": ""
           },
           "bgcolor": "#E5ECF6",
           "caxis": {
            "gridcolor": "white",
            "linecolor": "white",
            "ticks": ""
           }
          },
          "title": {
           "x": 0.05
          },
          "xaxis": {
           "automargin": true,
           "gridcolor": "white",
           "linecolor": "white",
           "ticks": "",
           "zerolinecolor": "white",
           "zerolinewidth": 2
          },
          "yaxis": {
           "automargin": true,
           "gridcolor": "white",
           "linecolor": "white",
           "ticks": "",
           "zerolinecolor": "white",
           "zerolinewidth": 2
          }
         }
        },
        "title": {
         "text": "A Figure Displayed with fig.show()"
        },
        "xaxis": {
         "autorange": true,
         "range": [
          -0.5,
          2.5
         ]
        },
        "yaxis": {
         "autorange": true,
         "range": [
          0,
          3.1578947368421053
         ],
         "type": "linear"
        }
       }
      },
      "image/png": "[encoded data removed]"
     },
     "metadata": {},
     "output_type": "display_data"
    }
   ],
   "source": [
    "import plotly.graph_objects as go\n",
    "fig = go.Figure(\n",
    "    data=[go.Bar(y=[2, 1, 3])],\n",
    "    layout_title_text=\"A Figure Displayed with fig.show()\"\n",
    ")\n",
    "fig.show()"
   ]
  },
  {
   "cell_type": "code",
   "execution_count": 23,
   "metadata": {},
   "outputs": [
    {
     "data": {
      "application/vnd.plotly.v1+json": {
       "config": {
        "plotlyServerURL": "https://plot.ly"
       },
       "data": [
        {
         "type": "bar",
         "uid": "5ae49911-d522-4e99-8f95-2660ffc6a727",
         "y": [
          2,
          3,
          1
         ]
        }
       ],
       "layout": {
        "autosize": true,
        "template": {
         "data": {
          "bar": [
           {
            "error_x": {
             "color": "#2a3f5f"
            },
            "error_y": {
             "color": "#2a3f5f"
            },
            "marker": {
             "line": {
              "color": "#E5ECF6",
              "width": 0.5
             }
            },
            "type": "bar"
           }
          ],
          "barpolar": [
           {
            "marker": {
             "line": {
              "color": "#E5ECF6",
              "width": 0.5
             }
            },
            "type": "barpolar"
           }
          ],
          "carpet": [
           {
            "aaxis": {
             "endlinecolor": "#2a3f5f",
             "gridcolor": "white",
             "linecolor": "white",
             "minorgridcolor": "white",
             "startlinecolor": "#2a3f5f"
            },
            "baxis": {
             "endlinecolor": "#2a3f5f",
             "gridcolor": "white",
             "linecolor": "white",
             "minorgridcolor": "white",
             "startlinecolor": "#2a3f5f"
            },
            "type": "carpet"
           }
          ],
          "choropleth": [
           {
            "colorbar": {
             "outlinewidth": 0,
             "ticks": ""
            },
            "type": "choropleth"
           }
          ],
          "contour": [
           {
            "colorbar": {
             "outlinewidth": 0,
             "ticks": ""
            },
            "colorscale": [
             [
              0,
              "#0d0887"
             ],
             [
              0.1111111111111111,
              "#46039f"
             ],
             [
              0.2222222222222222,
              "#7201a8"
             ],
             [
              0.3333333333333333,
              "#9c179e"
             ],
             [
              0.4444444444444444,
              "#bd3786"
             ],
             [
              0.5555555555555556,
              "#d8576b"
             ],
             [
              0.6666666666666666,
              "#ed7953"
             ],
             [
              0.7777777777777778,
              "#fb9f3a"
             ],
             [
              0.8888888888888888,
              "#fdca26"
             ],
             [
              1,
              "#f0f921"
             ]
            ],
            "type": "contour"
           }
          ],
          "contourcarpet": [
           {
            "colorbar": {
             "outlinewidth": 0,
             "ticks": ""
            },
            "type": "contourcarpet"
           }
          ],
          "heatmap": [
           {
            "colorbar": {
             "outlinewidth": 0,
             "ticks": ""
            },
            "colorscale": [
             [
              0,
              "#0d0887"
             ],
             [
              0.1111111111111111,
              "#46039f"
             ],
             [
              0.2222222222222222,
              "#7201a8"
             ],
             [
              0.3333333333333333,
              "#9c179e"
             ],
             [
              0.4444444444444444,
              "#bd3786"
             ],
             [
              0.5555555555555556,
              "#d8576b"
             ],
             [
              0.6666666666666666,
              "#ed7953"
             ],
             [
              0.7777777777777778,
              "#fb9f3a"
             ],
             [
              0.8888888888888888,
              "#fdca26"
             ],
             [
              1,
              "#f0f921"
             ]
            ],
            "type": "heatmap"
           }
          ],
          "heatmapgl": [
           {
            "colorbar": {
             "outlinewidth": 0,
             "ticks": ""
            },
            "colorscale": [
             [
              0,
              "#0d0887"
             ],
             [
              0.1111111111111111,
              "#46039f"
             ],
             [
              0.2222222222222222,
              "#7201a8"
             ],
             [
              0.3333333333333333,
              "#9c179e"
             ],
             [
              0.4444444444444444,
              "#bd3786"
             ],
             [
              0.5555555555555556,
              "#d8576b"
             ],
             [
              0.6666666666666666,
              "#ed7953"
             ],
             [
              0.7777777777777778,
              "#fb9f3a"
             ],
             [
              0.8888888888888888,
              "#fdca26"
             ],
             [
              1,
              "#f0f921"
             ]
            ],
            "type": "heatmapgl"
           }
          ],
          "histogram": [
           {
            "marker": {
             "colorbar": {
              "outlinewidth": 0,
              "ticks": ""
             }
            },
            "type": "histogram"
           }
          ],
          "histogram2d": [
           {
            "colorbar": {
             "outlinewidth": 0,
             "ticks": ""
            },
            "colorscale": [
             [
              0,
              "#0d0887"
             ],
             [
              0.1111111111111111,
              "#46039f"
             ],
             [
              0.2222222222222222,
              "#7201a8"
             ],
             [
              0.3333333333333333,
              "#9c179e"
             ],
             [
              0.4444444444444444,
              "#bd3786"
             ],
             [
              0.5555555555555556,
              "#d8576b"
             ],
             [
              0.6666666666666666,
              "#ed7953"
             ],
             [
              0.7777777777777778,
              "#fb9f3a"
             ],
             [
              0.8888888888888888,
              "#fdca26"
             ],
             [
              1,
              "#f0f921"
             ]
            ],
            "type": "histogram2d"
           }
          ],
          "histogram2dcontour": [
           {
            "colorbar": {
             "outlinewidth": 0,
             "ticks": ""
            },
            "colorscale": [
             [
              0,
              "#0d0887"
             ],
             [
              0.1111111111111111,
              "#46039f"
             ],
             [
              0.2222222222222222,
              "#7201a8"
             ],
             [
              0.3333333333333333,
              "#9c179e"
             ],
             [
              0.4444444444444444,
              "#bd3786"
             ],
             [
              0.5555555555555556,
              "#d8576b"
             ],
             [
              0.6666666666666666,
              "#ed7953"
             ],
             [
              0.7777777777777778,
              "#fb9f3a"
             ],
             [
              0.8888888888888888,
              "#fdca26"
             ],
             [
              1,
              "#f0f921"
             ]
            ],
            "type": "histogram2dcontour"
           }
          ],
          "mesh3d": [
           {
            "colorbar": {
             "outlinewidth": 0,
             "ticks": ""
            },
            "type": "mesh3d"
           }
          ],
          "parcoords": [
           {
            "line": {
             "colorbar": {
              "outlinewidth": 0,
              "ticks": ""
             }
            },
            "type": "parcoords"
           }
          ],
          "scatter": [
           {
            "marker": {
             "colorbar": {
              "outlinewidth": 0,
              "ticks": ""
             }
            },
            "type": "scatter"
           }
          ],
          "scatter3d": [
           {
            "line": {
             "colorbar": {
              "outlinewidth": 0,
              "ticks": ""
             }
            },
            "marker": {
             "colorbar": {
              "outlinewidth": 0,
              "ticks": ""
             }
            },
            "type": "scatter3d"
           }
          ],
          "scattercarpet": [
           {
            "marker": {
             "colorbar": {
              "outlinewidth": 0,
              "ticks": ""
             }
            },
            "type": "scattercarpet"
           }
          ],
          "scattergeo": [
           {
            "marker": {
             "colorbar": {
              "outlinewidth": 0,
              "ticks": ""
             }
            },
            "type": "scattergeo"
           }
          ],
          "scattergl": [
           {
            "marker": {
             "colorbar": {
              "outlinewidth": 0,
              "ticks": ""
             }
            },
            "type": "scattergl"
           }
          ],
          "scattermapbox": [
           {
            "marker": {
             "colorbar": {
              "outlinewidth": 0,
              "ticks": ""
             }
            },
            "type": "scattermapbox"
           }
          ],
          "scatterpolar": [
           {
            "marker": {
             "colorbar": {
              "outlinewidth": 0,
              "ticks": ""
             }
            },
            "type": "scatterpolar"
           }
          ],
          "scatterpolargl": [
           {
            "marker": {
             "colorbar": {
              "outlinewidth": 0,
              "ticks": ""
             }
            },
            "type": "scatterpolargl"
           }
          ],
          "scatterternary": [
           {
            "marker": {
             "colorbar": {
              "outlinewidth": 0,
              "ticks": ""
             }
            },
            "type": "scatterternary"
           }
          ],
          "surface": [
           {
            "colorbar": {
             "outlinewidth": 0,
             "ticks": ""
            },
            "colorscale": [
             [
              0,
              "#0d0887"
             ],
             [
              0.1111111111111111,
              "#46039f"
             ],
             [
              0.2222222222222222,
              "#7201a8"
             ],
             [
              0.3333333333333333,
              "#9c179e"
             ],
             [
              0.4444444444444444,
              "#bd3786"
             ],
             [
              0.5555555555555556,
              "#d8576b"
             ],
             [
              0.6666666666666666,
              "#ed7953"
             ],
             [
              0.7777777777777778,
              "#fb9f3a"
             ],
             [
              0.8888888888888888,
              "#fdca26"
             ],
             [
              1,
              "#f0f921"
             ]
            ],
            "type": "surface"
           }
          ],
          "table": [
           {
            "cells": {
             "fill": {
              "color": "#EBF0F8"
             },
             "line": {
              "color": "white"
             }
            },
            "header": {
             "fill": {
              "color": "#C8D4E3"
             },
             "line": {
              "color": "white"
             }
            },
            "type": "table"
           }
          ]
         },
         "layout": {
          "annotationdefaults": {
           "arrowcolor": "#2a3f5f",
           "arrowhead": 0,
           "arrowwidth": 1
          },
          "colorscale": {
           "diverging": [
            [
             0,
             "#8e0152"
            ],
            [
             0.1,
             "#c51b7d"
            ],
            [
             0.2,
             "#de77ae"
            ],
            [
             0.3,
             "#f1b6da"
            ],
            [
             0.4,
             "#fde0ef"
            ],
            [
             0.5,
             "#f7f7f7"
            ],
            [
             0.6,
             "#e6f5d0"
            ],
            [
             0.7,
             "#b8e186"
            ],
            [
             0.8,
             "#7fbc41"
            ],
            [
             0.9,
             "#4d9221"
            ],
            [
             1,
             "#276419"
            ]
           ],
           "sequential": [
            [
             0,
             "#0d0887"
            ],
            [
             0.1111111111111111,
             "#46039f"
            ],
            [
             0.2222222222222222,
             "#7201a8"
            ],
            [
             0.3333333333333333,
             "#9c179e"
            ],
            [
             0.4444444444444444,
             "#bd3786"
            ],
            [
             0.5555555555555556,
             "#d8576b"
            ],
            [
             0.6666666666666666,
             "#ed7953"
            ],
            [
             0.7777777777777778,
             "#fb9f3a"
            ],
            [
             0.8888888888888888,
             "#fdca26"
            ],
            [
             1,
             "#f0f921"
            ]
           ],
           "sequentialminus": [
            [
             0,
             "#0d0887"
            ],
            [
             0.1111111111111111,
             "#46039f"
            ],
            [
             0.2222222222222222,
             "#7201a8"
            ],
            [
             0.3333333333333333,
             "#9c179e"
            ],
            [
             0.4444444444444444,
             "#bd3786"
            ],
            [
             0.5555555555555556,
             "#d8576b"
            ],
            [
             0.6666666666666666,
             "#ed7953"
            ],
            [
             0.7777777777777778,
             "#fb9f3a"
            ],
            [
             0.8888888888888888,
             "#fdca26"
            ],
            [
             1,
             "#f0f921"
            ]
           ]
          },
          "colorway": [
           "#636efa",
           "#EF553B",
           "#00cc96",
           "#ab63fa",
           "#FFA15A",
           "#19d3f3",
           "#FF6692",
           "#B6E880",
           "#FF97FF",
           "#FECB52"
          ],
          "font": {
           "color": "#2a3f5f"
          },
          "geo": {
           "bgcolor": "white",
           "lakecolor": "white",
           "landcolor": "#E5ECF6",
           "showlakes": true,
           "showland": true,
           "subunitcolor": "white"
          },
          "hoverlabel": {
           "align": "left"
          },
          "hovermode": "closest",
          "mapbox": {
           "style": "light"
          },
          "paper_bgcolor": "white",
          "plot_bgcolor": "#E5ECF6",
          "polar": {
           "angularaxis": {
            "gridcolor": "white",
            "linecolor": "white",
            "ticks": ""
           },
           "bgcolor": "#E5ECF6",
           "radialaxis": {
            "gridcolor": "white",
            "linecolor": "white",
            "ticks": ""
           }
          },
          "scene": {
           "xaxis": {
            "backgroundcolor": "#E5ECF6",
            "gridcolor": "white",
            "gridwidth": 2,
            "linecolor": "white",
            "showbackground": true,
            "ticks": "",
            "zerolinecolor": "white"
           },
           "yaxis": {
            "backgroundcolor": "#E5ECF6",
            "gridcolor": "white",
            "gridwidth": 2,
            "linecolor": "white",
            "showbackground": true,
            "ticks": "",
            "zerolinecolor": "white"
           },
           "zaxis": {
            "backgroundcolor": "#E5ECF6",
            "gridcolor": "white",
            "gridwidth": 2,
            "linecolor": "white",
            "showbackground": true,
            "ticks": "",
            "zerolinecolor": "white"
           }
          },
          "shapedefaults": {
           "line": {
            "color": "#2a3f5f"
           }
          },
          "ternary": {
           "aaxis": {
            "gridcolor": "white",
            "linecolor": "white",
            "ticks": ""
           },
           "baxis": {
            "gridcolor": "white",
            "linecolor": "white",
            "ticks": ""
           },
           "bgcolor": "#E5ECF6",
           "caxis": {
            "gridcolor": "white",
            "linecolor": "white",
            "ticks": ""
           }
          },
          "title": {
           "x": 0.05
          },
          "xaxis": {
           "automargin": true,
           "gridcolor": "white",
           "linecolor": "white",
           "ticks": "",
           "zerolinecolor": "white",
           "zerolinewidth": 2
          },
          "yaxis": {
           "automargin": true,
           "gridcolor": "white",
           "linecolor": "white",
           "ticks": "",
           "zerolinecolor": "white",
           "zerolinewidth": 2
          }
         }
        },
        "xaxis": {
         "autorange": true,
         "range": [
          -0.5,
          2.5
         ]
        },
        "yaxis": {
         "autorange": true,
         "range": [
          0,
          3.1578947368421053
         ],
         "type": "linear"
        }
       }
      },
      "image/png": "[encoded data removed]"
     },
     "metadata": {},
     "output_type": "display_data"
    }
   ],
   "source": [
    "fig = go.FigureWidget(data=go.Bar(y=[2, 3, 1]))\n",
    "fig.show()"
   ]
  },
  {
   "cell_type": "code",
   "execution_count": 21,
   "metadata": {},
   "outputs": [
    {
     "data": {
      "application/vnd.plotly.v1+json": {
       "config": {
        "plotlyServerURL": "https://plot.ly"
       },
       "data": [
        {
         "type": "scatter",
         "x": [
          0,
          0.018868424345884642,
          0.037736848691769284,
          0.056605273037653926,
          0.07547369738353857,
          0.09434212172942322,
          0.11321054607530785,
          0.1320789704211925,
          0.15094739476707714,
          0.16981581911296179,
          0.18868424345884643,
          0.20755266780473106,
          0.2264210921506157,
          0.24528951649650035,
          0.264157940842385,
          0.2830263651882696,
          0.3018947895341543,
          0.3207632138800389,
          0.33963163822592357,
          0.3585000625718082,
          0.37736848691769287,
          0.39623691126357746,
          0.4151053356094621,
          0.43397375995534676,
          0.4528421843012314,
          0.47171060864711606,
          0.4905790329930007,
          0.5094474573388853,
          0.52831588168477,
          0.5471843060306546,
          0.5660527303765392,
          0.5849211547224239,
          0.6037895790683085,
          0.6226580034141932,
          0.6415264277600778,
          0.6603948521059625,
          0.6792632764518471,
          0.6981317007977318,
          0.7170001251436164,
          0.7358685494895011,
          0.7547369738353857,
          0.7736053981812703,
          0.7924738225271549,
          0.8113422468730396,
          0.8302106712189242,
          0.8490790955648089,
          0.8679475199106935,
          0.8868159442565782,
          0.9056843686024628,
          0.9245527929483475,
          0.9434212172942321,
          0.9622896416401168,
          0.9811580659860014,
          1.000026490331886,
          1.0188949146777706,
          1.0377633390236554,
          1.05663176336954,
          1.0755001877154247,
          1.0943686120613092,
          1.113237036407194,
          1.1321054607530785,
          1.1509738850989633,
          1.1698423094448478,
          1.1887107337907326,
          1.207579158136617,
          1.2264475824825016,
          1.2453160068283864,
          1.264184431174271,
          1.2830528555201557,
          1.3019212798660402,
          1.320789704211925,
          1.3396581285578095,
          1.3585265529036943,
          1.3773949772495788,
          1.3962634015954636,
          1.4151318259413481,
          1.4340002502872329,
          1.4528686746331174,
          1.4717370989790022,
          1.4906055233248867,
          1.5094739476707715,
          1.528342372016656,
          1.5472107963625406,
          1.5660792207084253,
          1.5849476450543099,
          1.6038160694001946,
          1.6226844937460791,
          1.641552918091964,
          1.6604213424378484,
          1.6792897667837332,
          1.6981581911296177,
          1.7170266154755025,
          1.735895039821387,
          1.7547634641672718,
          1.7736318885131563,
          1.792500312859041,
          1.8113687372049256,
          1.8302371615508102,
          1.849105585896695,
          1.8679740102425795,
          1.8868424345884642,
          1.9057108589343488,
          1.9245792832802335,
          1.943447707626118,
          1.9623161319720028,
          1.9811845563178874,
          2.000052980663772,
          2.0189214050096567,
          2.037789829355541,
          2.056658253701426,
          2.0755266780473107,
          2.0943951023931953,
          2.11326352673908,
          2.1321319510849643,
          2.1510003754308493,
          2.169868799776734,
          2.1887372241226184,
          2.207605648468503,
          2.226474072814388,
          2.2453424971602725,
          2.264210921506157,
          2.2830793458520415,
          2.3019477701979265,
          2.320816194543811,
          2.3396846188896956,
          2.35855304323558,
          2.377421467581465,
          2.3962898919273496,
          2.415158316273234,
          2.4340267406191187,
          2.4528951649650033,
          2.4717635893108882,
          2.490632013656773,
          2.5095004380026573,
          2.528368862348542,
          2.547237286694427,
          2.5661057110403114,
          2.584974135386196,
          2.6038425597320805,
          2.6227109840779654,
          2.64157940842385,
          2.6604478327697345,
          2.679316257115619,
          2.698184681461504,
          2.7170531058073886,
          2.735921530153273,
          2.7547899544991576,
          2.773658378845042,
          2.792526803190927,
          2.8113952275368117,
          2.8302636518826962,
          2.849132076228581,
          2.8680005005744658,
          2.8868689249203503,
          2.905737349266235,
          2.9246057736121194,
          2.9434741979580044,
          2.962342622303889,
          2.9812110466497734,
          3.000079470995658,
          3.018947895341543,
          3.0378163196874275,
          3.056684744033312,
          3.0755531683791966,
          3.094421592725081,
          3.113290017070966,
          3.1321584414168506,
          3.151026865762735,
          3.1698952901086197,
          3.1887637144545047,
          3.207632138800389,
          3.2265005631462738,
          3.2453689874921583,
          3.2642374118380433,
          3.283105836183928,
          3.3019742605298124,
          3.320842684875697,
          3.3397111092215814,
          3.3585795335674664,
          3.377447957913351,
          3.3963163822592355,
          3.41518480660512,
          3.434053230951005,
          3.4529216552968895,
          3.471790079642774,
          3.4906585039886586,
          3.5095269283345436,
          3.528395352680428,
          3.5472637770263127,
          3.566132201372197,
          3.585000625718082,
          3.6038690500639667,
          3.6227374744098513,
          3.641605898755736,
          3.6604743231016204,
          3.6793427474475053,
          3.69821117179339,
          3.7170795961392744,
          3.735948020485159,
          3.754816444831044,
          3.7736848691769285,
          3.792553293522813,
          3.8114217178686975,
          3.8302901422145825,
          3.849158566560467,
          3.8680269909063516,
          3.886895415252236,
          3.905763839598121,
          3.9246322639440057,
          3.94350068828989,
          3.9623691126357747,
          3.9812375369816593,
          4.000105961327544,
          4.018974385673428,
          4.037842810019313,
          4.056711234365198,
          4.075579658711082,
          4.094448083056967,
          4.113316507402852,
          4.1321849317487365,
          4.1510533560946214,
          4.1699217804405055,
          4.1887902047863905,
          4.2076586291322755,
          4.22652705347816,
          4.245395477824045,
          4.264263902169929,
          4.283132326515814,
          4.302000750861699,
          4.320869175207583,
          4.339737599553468,
          4.358606023899353,
          4.377474448245237,
          4.396342872591122,
          4.415211296937006,
          4.434079721282891,
          4.452948145628776,
          4.47181656997466,
          4.490684994320545,
          4.50955341866643,
          4.528421843012314,
          4.547290267358199,
          4.566158691704083,
          4.585027116049968,
          4.603895540395853,
          4.622763964741737,
          4.641632389087622,
          4.660500813433506,
          4.679369237779391,
          4.698237662125276,
          4.71710608647116,
          4.735974510817045,
          4.75484293516293,
          4.773711359508814,
          4.792579783854699,
          4.811448208200583,
          4.830316632546468,
          4.849185056892353,
          4.8680534812382374,
          4.886921905584122,
          4.9057903299300065,
          4.9246587542758915,
          4.9435271786217765,
          4.962395602967661,
          4.981264027313546,
          5.0001324516594305,
          5.019000876005315,
          5.0378693003512,
          5.056737724697084,
          5.075606149042969,
          5.094474573388854,
          5.113342997734738,
          5.132211422080623,
          5.151079846426507,
          5.169948270772392,
          5.188816695118277,
          5.207685119464161,
          5.226553543810046,
          5.245421968155931,
          5.264290392501815,
          5.2831588168477,
          5.302027241193584,
          5.320895665539469,
          5.339764089885354,
          5.358632514231238,
          5.377500938577123,
          5.396369362923008,
          5.415237787268892,
          5.434106211614777,
          5.452974635960661,
          5.471843060306546,
          5.490711484652431,
          5.509579908998315,
          5.5284483333442,
          5.547316757690084,
          5.566185182035969,
          5.585053606381854,
          5.603922030727738,
          5.622790455073623,
          5.641658879419508,
          5.6605273037653925,
          5.6793957281112775,
          5.698264152457162,
          5.7171325768030465,
          5.7360010011489315,
          5.754869425494816,
          5.773737849840701,
          5.792606274186585,
          5.81147469853247,
          5.830343122878355,
          5.849211547224239,
          5.868079971570124,
          5.886948395916009,
          5.905816820261893,
          5.924685244607778,
          5.943553668953662,
          5.962422093299547,
          5.981290517645432,
          6.000158941991316,
          6.019027366337201,
          6.037895790683086,
          6.05676421502897,
          6.075632639374855,
          6.094501063720739,
          6.113369488066624,
          6.132237912412509,
          6.151106336758393,
          6.169974761104278,
          6.188843185450162,
          6.207711609796047,
          6.226580034141932,
          6.245448458487816,
          6.264316882833701,
          6.283185307179586,
          6.30205373152547,
          6.320922155871355,
          6.339790580217239,
          6.358659004563124,
          6.377527428909009,
          6.3963958532548935,
          6.415264277600778,
          6.4341327019466625,
          6.4530011262925475,
          6.4718695506384325,
          6.490737974984317,
          6.509606399330202,
          6.528474823676087,
          6.547343248021971,
          6.566211672367856,
          6.58508009671374,
          6.603948521059625,
          6.62281694540551,
          6.641685369751394,
          6.660553794097279,
          6.679422218443163,
          6.698290642789048,
          6.717159067134933,
          6.736027491480817,
          6.754895915826702,
          6.773764340172587,
          6.792632764518471,
          6.811501188864356,
          6.83036961321024,
          6.849238037556125,
          6.86810646190201,
          6.886974886247894,
          6.905843310593779,
          6.924711734939664,
          6.943580159285548,
          6.962448583631433,
          6.981317007977317,
          7.000185432323202,
          7.019053856669087,
          7.037922281014971,
          7.056790705360856,
          7.07565912970674,
          7.094527554052625,
          7.11339597839851,
          7.132264402744394,
          7.151132827090279,
          7.170001251436164,
          7.1888696757820485,
          7.2077381001279335,
          7.226606524473818,
          7.2454749488197026,
          7.2643433731655875,
          7.283211797511472,
          7.302080221857357,
          7.320948646203241,
          7.339817070549126,
          7.358685494895011,
          7.377553919240895,
          7.39642234358678,
          7.415290767932665,
          7.434159192278549,
          7.453027616624434,
          7.471896040970318,
          7.490764465316203,
          7.509632889662088,
          7.528501314007972,
          7.547369738353857,
          7.566238162699741,
          7.585106587045626,
          7.603975011391511,
          7.622843435737395,
          7.64171186008328,
          7.660580284429165,
          7.679448708775049,
          7.698317133120934,
          7.717185557466818,
          7.736053981812703,
          7.754922406158588,
          7.773790830504472,
          7.792659254850357,
          7.811527679196242,
          7.830396103542126,
          7.849264527888011,
          7.868132952233895,
          7.88700137657978,
          7.905869800925665,
          7.9247382252715495,
          7.9436066496174345,
          7.9624750739633186,
          7.9813434983092035,
          8.000211922655089,
          8.019080347000973,
          8.037948771346857,
          8.056817195692743,
          8.075685620038627,
          8.09455404438451,
          8.113422468730397,
          8.13229089307628,
          8.151159317422165,
          8.17002774176805,
          8.188896166113935,
          8.207764590459819,
          8.226633014805705,
          8.245501439151589,
          8.264369863497473,
          8.283238287843357,
          8.302106712189243,
          8.320975136535127,
          8.339843560881011,
          8.358711985226897,
          8.377580409572781,
          8.396448833918665,
          8.415317258264551,
          8.434185682610435,
          8.45305410695632,
          8.471922531302205,
          8.49079095564809,
          8.509659379993973,
          8.528527804339857,
          8.547396228685743,
          8.566264653031627,
          8.585133077377511,
          8.604001501723397,
          8.622869926069281,
          8.641738350415165,
          8.660606774761051,
          8.679475199106935,
          8.69834362345282,
          8.717212047798705,
          8.73608047214459,
          8.754948896490474,
          8.773817320836358,
          8.792685745182244,
          8.811554169528128,
          8.830422593874012,
          8.849291018219898,
          8.868159442565782,
          8.887027866911666,
          8.905896291257552,
          8.924764715603436,
          8.94363313994932,
          8.962501564295206,
          8.98136998864109,
          9.000238412986974,
          9.01910683733286,
          9.037975261678744,
          9.056843686024628,
          9.075712110370512,
          9.094580534716398,
          9.113448959062282,
          9.132317383408166,
          9.151185807754052,
          9.170054232099936,
          9.18892265644582,
          9.207791080791706,
          9.22665950513759,
          9.245527929483474,
          9.26439635382936,
          9.283264778175244,
          9.302133202521128,
          9.321001626867012,
          9.339870051212898,
          9.358738475558782,
          9.377606899904666,
          9.396475324250552,
          9.415343748596436,
          9.43421217294232,
          9.453080597288206,
          9.47194902163409,
          9.490817445979975,
          9.50968587032586,
          9.528554294671745,
          9.547422719017629,
          9.566291143363513,
          9.585159567709399,
          9.604027992055283,
          9.622896416401167,
          9.641764840747053,
          9.660633265092937,
          9.67950168943882,
          9.698370113784707,
          9.71723853813059,
          9.736106962476475,
          9.75497538682236,
          9.773843811168245,
          9.792712235514129,
          9.811580659860013,
          9.830449084205899,
          9.849317508551783,
          9.868185932897667,
          9.887054357243553,
          9.905922781589437,
          9.924791205935321,
          9.943659630281207,
          9.962528054627091,
          9.981396478972975,
          10.000264903318861,
          10.019133327664745,
          10.03800175201063,
          10.056870176356513,
          10.0757386007024,
          10.094607025048283,
          10.113475449394167,
          10.132343873740053,
          10.151212298085937,
          10.170080722431821,
          10.188949146777707,
          10.207817571123591,
          10.226685995469476,
          10.245554419815361,
          10.264422844161246,
          10.28329126850713,
          10.302159692853014,
          10.3210281171989,
          10.339896541544784,
          10.358764965890668,
          10.377633390236554,
          10.396501814582438,
          10.415370238928322,
          10.434238663274208,
          10.453107087620092,
          10.471975511965976,
          10.490843936311862,
          10.509712360657746,
          10.52858078500363,
          10.547449209349516,
          10.5663176336954,
          10.585186058041284,
          10.604054482387168,
          10.622922906733054,
          10.641791331078938,
          10.660659755424822,
          10.679528179770708,
          10.698396604116592,
          10.717265028462476,
          10.736133452808362,
          10.755001877154246,
          10.77387030150013,
          10.792738725846016,
          10.8116071501919,
          10.830475574537784,
          10.849343998883668,
          10.868212423229554,
          10.887080847575438,
          10.905949271921322,
          10.924817696267208,
          10.943686120613092,
          10.962554544958977,
          10.981422969304862,
          11.000291393650746,
          11.01915981799663,
          11.038028242342516,
          11.0568966666884,
          11.075765091034285,
          11.094633515380169,
          11.113501939726055,
          11.132370364071939,
          11.151238788417823,
          11.170107212763709,
          11.188975637109593,
          11.207844061455477,
          11.226712485801363,
          11.245580910147247,
          11.264449334493131,
          11.283317758839017,
          11.3021861831849,
          11.321054607530785,
          11.339923031876669,
          11.358791456222555,
          11.377659880568439,
          11.396528304914323,
          11.415396729260209,
          11.434265153606093,
          11.453133577951977,
          11.472002002297863,
          11.490870426643747,
          11.509738850989631,
          11.528607275335517,
          11.547475699681401,
          11.566344124027285,
          11.58521254837317,
          11.604080972719055,
          11.62294939706494,
          11.641817821410823,
          11.66068624575671,
          11.679554670102593,
          11.698423094448477,
          11.717291518794363,
          11.736159943140247,
          11.755028367486132,
          11.773896791832017,
          11.792765216177902,
          11.811633640523786,
          11.83050206486967,
          11.849370489215556,
          11.86823891356144,
          11.887107337907324,
          11.90597576225321,
          11.924844186599094,
          11.943712610944978,
          11.962581035290864,
          11.981449459636748,
          12.000317883982632,
          12.019186308328518,
          12.038054732674402,
          12.056923157020286,
          12.075791581366172,
          12.094660005712056,
          12.11352843005794,
          12.132396854403824,
          12.15126527874971,
          12.170133703095594,
          12.189002127441478,
          12.207870551787364,
          12.226738976133248,
          12.245607400479132,
          12.264475824825018,
          12.283344249170902,
          12.302212673516786,
          12.321081097862672,
          12.339949522208556,
          12.35881794655444,
          12.377686370900324,
          12.39655479524621,
          12.415423219592094,
          12.434291643937978,
          12.453160068283864,
          12.472028492629748,
          12.490896916975633,
          12.509765341321518,
          12.528633765667402,
          12.547502190013287,
          12.566370614359172,
          12.585239038705057,
          12.60410746305094,
          12.622975887396825,
          12.64184431174271,
          12.660712736088595,
          12.679581160434479,
          12.698449584780365,
          12.717318009126249,
          12.736186433472133,
          12.755054857818019,
          12.773923282163903,
          12.792791706509787,
          12.811660130855673,
          12.830528555201557,
          12.849396979547441,
          12.868265403893325,
          12.887133828239211,
          12.906002252585095,
          12.92487067693098,
          12.943739101276865,
          12.962607525622749,
          12.981475949968633,
          13.000344374314519,
          13.019212798660403,
          13.038081223006287,
          13.056949647352173,
          13.075818071698057,
          13.094686496043941,
          13.113554920389825,
          13.132423344735711,
          13.151291769081595,
          13.17016019342748,
          13.189028617773365,
          13.20789704211925,
          13.226765466465134,
          13.24563389081102,
          13.264502315156903,
          13.283370739502788,
          13.302239163848673,
          13.321107588194558,
          13.339976012540442,
          13.358844436886326,
          13.377712861232212,
          13.396581285578096,
          13.41544970992398,
          13.434318134269866,
          13.45318655861575,
          13.472054982961634,
          13.49092340730752,
          13.509791831653404,
          13.528660255999288,
          13.547528680345174,
          13.566397104691058,
          13.585265529036942,
          13.604133953382826,
          13.623002377728712,
          13.641870802074596,
          13.66073922642048,
          13.679607650766366,
          13.69847607511225,
          13.717344499458134,
          13.73621292380402,
          13.755081348149904,
          13.773949772495788,
          13.792818196841674,
          13.811686621187558,
          13.830555045533442,
          13.849423469879328,
          13.868291894225212,
          13.887160318571096,
          13.90602874291698,
          13.924897167262866,
          13.94376559160875,
          13.962634015954634,
          13.98150244030052,
          14.000370864646404,
          14.019239288992289,
          14.038107713338174,
          14.056976137684059,
          14.075844562029943,
          14.094712986375828,
          14.113581410721713,
          14.132449835067597,
          14.15131825941348,
          14.170186683759367,
          14.18905510810525,
          14.207923532451135,
          14.22679195679702,
          14.245660381142905,
          14.264528805488789,
          14.283397229834675,
          14.302265654180559,
          14.321134078526443,
          14.340002502872329,
          14.358870927218213,
          14.377739351564097,
          14.396607775909981,
          14.415476200255867,
          14.434344624601751,
          14.453213048947635,
          14.472081473293521,
          14.490949897639405,
          14.50981832198529,
          14.528686746331175,
          14.54755517067706,
          14.566423595022943,
          14.58529201936883,
          14.604160443714713,
          14.623028868060597,
          14.641897292406481,
          14.660765716752367,
          14.679634141098251,
          14.698502565444135,
          14.717370989790021,
          14.736239414135905,
          14.75510783848179,
          14.773976262827675,
          14.79284468717356,
          14.811713111519444,
          14.83058153586533,
          14.849449960211214,
          14.868318384557098,
          14.887186808902982,
          14.906055233248868,
          14.924923657594752,
          14.943792081940636,
          14.962660506286522,
          14.981528930632406,
          15.00039735497829,
          15.019265779324176,
          15.03813420367006,
          15.057002628015944,
          15.07587105236183,
          15.094739476707714,
          15.113607901053598,
          15.132476325399482,
          15.151344749745368,
          15.170213174091252,
          15.189081598437136,
          15.207950022783022,
          15.226818447128906,
          15.24568687147479,
          15.264555295820676,
          15.28342372016656,
          15.302292144512444,
          15.32116056885833,
          15.340028993204214,
          15.358897417550098,
          15.377765841895984,
          15.396634266241868,
          15.415502690587752,
          15.434371114933636,
          15.453239539279522,
          15.472107963625406,
          15.49097638797129,
          15.509844812317176,
          15.52871323666306,
          15.547581661008945,
          15.56645008535483,
          15.585318509700715,
          15.604186934046599,
          15.623055358392484,
          15.641923782738369,
          15.660792207084253,
          15.679660631430137,
          15.698529055776023,
          15.717397480121907,
          15.73626590446779,
          15.755134328813677,
          15.77400275315956,
          15.792871177505445,
          15.81173960185133,
          15.830608026197215,
          15.849476450543099,
          15.868344874888985,
          15.887213299234869,
          15.906081723580753,
          15.924950147926637,
          15.943818572272523,
          15.962686996618407,
          15.981555420964291,
          16.000423845310177,
          16.01929226965606,
          16.038160694001945,
          16.05702911834783,
          16.075897542693713,
          16.0947659670396,
          16.113634391385485,
          16.132502815731367,
          16.151371240077253,
          16.17023966442314,
          16.18910808876902,
          16.207976513114907,
          16.226844937460793,
          16.245713361806676,
          16.26458178615256,
          16.283450210498447,
          16.30231863484433,
          16.321187059190216,
          16.3400554835361,
          16.358923907881984,
          16.37779233222787,
          16.396660756573755,
          16.415529180919638,
          16.434397605265524,
          16.45326602961141,
          16.472134453957292,
          16.491002878303178,
          16.509871302649064,
          16.528739726994946,
          16.54760815134083,
          16.566476575686714,
          16.5853450000326,
          16.604213424378486,
          16.623081848724368,
          16.641950273070254,
          16.66081869741614,
          16.679687121762022,
          16.698555546107908,
          16.717423970453794,
          16.736292394799676,
          16.755160819145562,
          16.774029243491448,
          16.79289766783733,
          16.811766092183216,
          16.830634516529102,
          16.849502940874984,
          16.86837136522087,
          16.887239789566756,
          16.90610821391264,
          16.924976638258524,
          16.94384506260441,
          16.962713486950292,
          16.98158191129618,
          17.000450335642064,
          17.019318759987947,
          17.038187184333832,
          17.057055608679715,
          17.0759240330256,
          17.094792457371486,
          17.11366088171737,
          17.132529306063255,
          17.15139773040914,
          17.170266154755023,
          17.18913457910091,
          17.208003003446795,
          17.226871427792677,
          17.245739852138563,
          17.26460827648445,
          17.28347670083033,
          17.302345125176217,
          17.321213549522103,
          17.340081973867985,
          17.35895039821387,
          17.377818822559757,
          17.39668724690564,
          17.415555671251525,
          17.43442409559741,
          17.453292519943293,
          17.47216094428918,
          17.491029368635065,
          17.509897792980947,
          17.528766217326833,
          17.547634641672715,
          17.5665030660186,
          17.585371490364487,
          17.60423991471037,
          17.623108339056255,
          17.64197676340214,
          17.660845187748023,
          17.67971361209391,
          17.698582036439795,
          17.717450460785678,
          17.736318885131563,
          17.75518730947745,
          17.77405573382333,
          17.792924158169217,
          17.811792582515103,
          17.830661006860986,
          17.84952943120687,
          17.868397855552757,
          17.88726627989864,
          17.906134704244526,
          17.92500312859041,
          17.943871552936294,
          17.96273997728218,
          17.981608401628066,
          18.000476825973948,
          18.019345250319834,
          18.03821367466572,
          18.057082099011602,
          18.075950523357488,
          18.09481894770337,
          18.113687372049256,
          18.132555796395142,
          18.151424220741024,
          18.17029264508691,
          18.189161069432796,
          18.208029493778678,
          18.226897918124564,
          18.24576634247045,
          18.264634766816332,
          18.283503191162218,
          18.302371615508104,
          18.321240039853986,
          18.340108464199872,
          18.358976888545758,
          18.37784531289164,
          18.396713737237526,
          18.415582161583412,
          18.434450585929294,
          18.45331901027518,
          18.472187434621066,
          18.49105585896695,
          18.509924283312834,
          18.52879270765872,
          18.547661132004603,
          18.56652955635049,
          18.58539798069637,
          18.604266405042257,
          18.623134829388142,
          18.642003253734025,
          18.66087167807991,
          18.679740102425797,
          18.69860852677168,
          18.717476951117565,
          18.73634537546345,
          18.755213799809333,
          18.77408222415522,
          18.792950648501105,
          18.811819072846987,
          18.830687497192873,
          18.84955592153876
         ],
         "y": [
          1,
          0.9998219965624732,
          0.99928804962034,
          0.9983983492623831,
          0.9971532122280464,
          0.9955530817946746,
          0.9935985276197029,
          0.9912902455378554,
          0.9886290573134227,
          0.9856159103477085,
          0.9822518773417481,
          0.9785381559144196,
          0.9744760681760832,
          0.9700670602579008,
          0.9653127017970033,
          0.9602146853776895,
          0.9547748259288535,
          0.9489950600778587,
          0.9428774454610842,
          0.9364241599913923,
          0.9296375010827771,
          0.9225198848324687,
          0.915073845160786,
          0.9073020329090444,
          0.8992072148958368,
          0.8907922729320283,
          0.8820602027948115,
          0.8730141131611882,
          0.8636572245012606,
          0.8539928679317208,
          0.8440244840299505,
          0.8337556216091516,
          0.8231899364549453,
          0.812331190023886,
          0.8011832481043575,
          0.789750079440326,
          0.7780357543184395,
          0.7660444431189781,
          0.7537804148311695,
          0.7412480355334002,
          0.7284517668388609,
          0.715396164307182,
          0.7020858758226226,
          0.6885256399393923,
          0.6747202841946927,
          0.6606747233900816,
          0.6463939578417693,
          0.6318830716004723,
          0.6171472306414553,
          0.6021916810254097,
          0.5870217470308188,
          0.5716428292584789,
          0.5560604027088477,
          0.5402800148329071,
          0.5243072835572319,
          0.5081478952839694,
          0.4918076028664419,
          0.47529222356108997,
          0.458607636956491,
          0.44175978288018314,
          0.42475465928404793,
          0.40759832010899627,
          0.3902968731297256,
          0.3728564777803086,
          0.35528334296139374,
          0.3375837248297925,
          0.31976392457124536,
          0.30183028615715696,
          0.28378919408609693,
          0.2656470711108765,
          0.2474103759520025,
          0.22908560099833017,
          0.2106792699957264,
          0.19219793572457305,
          0.17364817766693041,
          0.15503659966419803,
          0.13636982756609997,
          0.11765450687183875,
          0.09889730036424985,
          0.08010488573780725,
          0.06128395322131638,
          0.04244120319614846,
          0.023583343810857166,
          0.004717088593032224,
          -0.014150845940761853,
          -0.03301374267611341,
          -0.051864886292100794,
          -0.07069756565199455,
          -0.08950507619246639,
          -0.10828072231046172,
          -0.12701781974687854,
          -0.14570969796621133,
          -0.16434970253130593,
          -0.1829311974723866,
          -0.20144756764950503,
          -0.2198922211075776,
          -0.23825859142316483,
          -0.2565401400421648,
          -0.2747303586075827,
          -0.2928227712765501,
          -0.310810937025771,
          -0.3286884519445686,
          -0.3464489515147234,
          -0.36408611287628356,
          -0.38159365707854837,
          -0.3989653513154161,
          -0.4161950111443075,
          -0.4332765026878683,
          -0.450203744817673,
          -0.466970711319148,
          -0.4835714330369442,
          -0.4999999999999998,
          -0.5162505635255284,
          -0.5323173383011917,
          -0.5481946044447097,
          -0.5638767095401777,
          -0.5793580706503666,
          -0.5946331763042862,
          -0.6096965884593069,
          -0.6245429444371388,
          -0.6391669588329847,
          -0.6535634253971789,
          -0.6677272188886484,
          -0.6816532968995327,
          -0.6953367016503177,
          -0.708772561754838,
          -0.7219560939545244,
          -0.7348826048212758,
          -0.7475474924283534,
          -0.7599462479886974,
          -0.772074457460086,
          -0.7839278031165656,
          -0.7955020650855897,
          -0.806793122850324,
          -0.8177969567165775,
          -0.8285096492438421,
          -0.8389273866399272,
          -0.8490464601186977,
          -0.8588632672204258,
          -0.8683743130942927,
          -0.8775762117425776,
          -0.8864656872260985,
          -0.8950395748304677,
          -0.9032948221927524,
          -0.9112284903881356,
          -0.9188377549761959,
          -0.9261199070064258,
          -0.9330723539826371,
          -0.9396926207859083,
          -0.9459783505557423,
          -0.9519273055291264,
          -0.9575373678371908,
          -0.9628065402591843,
          -0.9677329469334988,
          -0.9723148340254889,
          -0.9765505703518492,
          -0.9804386479613267,
          -0.9839776826715615,
          -0.9871664145618657,
          -0.9900037084217638,
          -0.992488554155135,
          -0.9946200671398149,
          -0.9963974885425265,
          -0.9978201855890307,
          -0.9988876517893978,
          -0.9995995071183216,
          -0.999955498150411,
          -0.999955498150411,
          -0.9995995071183217,
          -0.9988876517893979,
          -0.9978201855890307,
          -0.9963974885425265,
          -0.9946200671398149,
          -0.992488554155135,
          -0.9900037084217639,
          -0.9871664145618658,
          -0.9839776826715616,
          -0.9804386479613268,
          -0.9765505703518493,
          -0.972314834025489,
          -0.967732946933499,
          -0.9628065402591846,
          -0.9575373678371909,
          -0.9519273055291266,
          -0.9459783505557425,
          -0.9396926207859085,
          -0.9330723539826374,
          -0.926119907006426,
          -0.9188377549761962,
          -0.9112284903881359,
          -0.9032948221927524,
          -0.895039574830468,
          -0.8864656872260989,
          -0.8775762117425778,
          -0.8683743130942929,
          -0.8588632672204262,
          -0.849046460118698,
          -0.8389273866399276,
          -0.8285096492438424,
          -0.8177969567165779,
          -0.8067931228503245,
          -0.7955020650855902,
          -0.7839278031165661,
          -0.7720744574600863,
          -0.7599462479886977,
          -0.7475474924283538,
          -0.7348826048212762,
          -0.7219560939545246,
          -0.7087725617548385,
          -0.6953367016503182,
          -0.6816532968995332,
          -0.6677272188886489,
          -0.6535634253971795,
          -0.6391669588329856,
          -0.6245429444371393,
          -0.6096965884593071,
          -0.5946331763042872,
          -0.5793580706503673,
          -0.5638767095401779,
          -0.5481946044447104,
          -0.5323173383011923,
          -0.5162505635255294,
          -0.5000000000000004,
          -0.4835714330369445,
          -0.4669707113191486,
          -0.45020374481767356,
          -0.4332765026878693,
          -0.4161950111443081,
          -0.3989653513154165,
          -0.3815936570785492,
          -0.3640861128762842,
          -0.3464489515147236,
          -0.3286884519445694,
          -0.3108109370257714,
          -0.29282277127655115,
          -0.2747303586075833,
          -0.2565401400421652,
          -0.23825859142316572,
          -0.21989222110757806,
          -0.20144756764950528,
          -0.18293119747238726,
          -0.1643497025313064,
          -0.14570969796621225,
          -0.12701781974687923,
          -0.10828072231046196,
          -0.08950507619246728,
          -0.070697565651995,
          -0.051864886292101925,
          -0.033013742676114094,
          -0.01415084594076232,
          0.004717088593031313,
          0.023583343810856475,
          0.04244120319614822,
          0.06128395322131569,
          0.08010488573780679,
          0.09889730036424894,
          0.11765450687183807,
          0.13636982756609972,
          0.1550365996641971,
          0.17364817766692997,
          0.19219793572457194,
          0.21067926999572573,
          0.22908560099832972,
          0.24741037595200163,
          0.2656470711108759,
          0.2837891940860967,
          0.3018302861571561,
          0.319763924571245,
          0.33758372482979143,
          0.3552833429613931,
          0.3728564777803084,
          0.39029687312972483,
          0.4075983201089958,
          0.42475465928404693,
          0.4417597828801826,
          0.4586076369564906,
          0.4752922235610892,
          0.4918076028664412,
          0.5081478952839691,
          0.524307283557231,
          0.5402800148329066,
          0.5560604027088468,
          0.5716428292584782,
          0.5870217470308183,
          0.6021916810254089,
          0.6171472306414548,
          0.631883071600472,
          0.6463939578417687,
          0.6606747233900812,
          0.6747202841946919,
          0.6885256399393918,
          0.7020858758226224,
          0.7153961643071813,
          0.7284517668388606,
          0.7412480355333995,
          0.7537804148311691,
          0.7660444431189779,
          0.778035754318439,
          0.7897500794403257,
          0.8011832481043574,
          0.8123311900238854,
          0.8231899364549451,
          0.8337556216091511,
          0.84402448402995,
          0.8539928679317206,
          0.8636572245012601,
          0.8730141131611879,
          0.8820602027948109,
          0.8907922729320281,
          0.8992072148958367,
          0.907302032909044,
          0.9150738451607858,
          0.9225198848324686,
          0.9296375010827769,
          0.9364241599913922,
          0.9428774454610839,
          0.9489950600778585,
          0.9547748259288534,
          0.9602146853776893,
          0.9653127017970032,
          0.9700670602579007,
          0.974476068176083,
          0.9785381559144195,
          0.9822518773417479,
          0.9856159103477083,
          0.9886290573134227,
          0.9912902455378553,
          0.9935985276197029,
          0.9955530817946745,
          0.9971532122280463,
          0.998398349262383,
          0.99928804962034,
          0.9998219965624732,
          1,
          0.9998219965624732,
          0.99928804962034,
          0.9983983492623831,
          0.9971532122280464,
          0.9955530817946746,
          0.993598527619703,
          0.9912902455378555,
          0.9886290573134229,
          0.9856159103477086,
          0.9822518773417482,
          0.9785381559144198,
          0.9744760681760833,
          0.9700670602579009,
          0.9653127017970036,
          0.9602146853776896,
          0.9547748259288539,
          0.9489950600778589,
          0.9428774454610843,
          0.9364241599913926,
          0.9296375010827773,
          0.9225198848324692,
          0.9150738451607864,
          0.9073020329090445,
          0.8992072148958372,
          0.8907922729320287,
          0.8820602027948116,
          0.8730141131611886,
          0.8636572245012608,
          0.8539928679317214,
          0.8440244840299508,
          0.8337556216091517,
          0.8231899364549458,
          0.8123311900238863,
          0.8011832481043576,
          0.7897500794403265,
          0.7780357543184399,
          0.7660444431189787,
          0.75378041483117,
          0.7412480355334005,
          0.7284517668388615,
          0.7153961643071823,
          0.7020858758226234,
          0.6885256399393928,
          0.6747202841946929,
          0.6606747233900823,
          0.6463939578417698,
          0.6318830716004724,
          0.6171472306414559,
          0.60219168102541,
          0.5870217470308196,
          0.5716428292584794,
          0.5560604027088479,
          0.5402800148329078,
          0.5243072835572322,
          0.5081478952839703,
          0.4918076028664425,
          0.4752922235610904,
          0.45860763695649187,
          0.4417597828801838,
          0.42475465928404815,
          0.4075983201089971,
          0.3902968731297261,
          0.3728564777803097,
          0.3552833429613944,
          0.33758372482979276,
          0.31976392457124625,
          0.30183028615715746,
          0.28378919408609804,
          0.2656470711108772,
          0.247410375952003,
          0.22908560099833106,
          0.2106792699957271,
          0.1921979357245733,
          0.17364817766693133,
          0.15503659966419847,
          0.1363698275661011,
          0.11765450687183943,
          0.09889730036425032,
          0.08010488573780816,
          0.061283953221317064,
          0.042441203196148705,
          0.023583343810857853,
          0.004717088593032691,
          -0.014150845940760942,
          -0.03301374267611273,
          -0.05186488629210055,
          -0.07069756565199363,
          -0.08950507619246592,
          -0.1082807223104606,
          -0.12701781974687784,
          -0.14570969796621086,
          -0.16434970253130504,
          -0.18293119747238504,
          -0.20144756764950478,
          -0.2198922211075767,
          -0.2382585914231635,
          -0.25654014004216474,
          -0.274730358607582,
          -0.292822771276549,
          -0.31081093702577095,
          -0.32868845194456814,
          -0.34644895151472227,
          -0.3640861128762837,
          -0.38159365707854787,
          -0.3989653513154152,
          -0.41619501114430607,
          -0.43327650268786805,
          -0.45020374481767234,
          -0.4669707113191466,
          -0.48357143303694405,
          -0.49999999999999917,
          -0.5162505635255275,
          -0.5323173383011918,
          -0.5481946044447091,
          -0.5638767095401768,
          -0.5793580706503668,
          -0.594633176304286,
          -0.609696588459306,
          -0.6245429444371375,
          -0.6391669588329845,
          -0.6535634253971784,
          -0.6677272188886473,
          -0.6816532968995326,
          -0.6953367016503172,
          -0.7087725617548373,
          -0.7219560939545243,
          -0.7348826048212753,
          -0.7475474924283526,
          -0.7599462479886974,
          -0.7720744574600857,
          -0.783927803116565,
          -0.7955020650855888,
          -0.8067931228503239,
          -0.8177969567165772,
          -0.8285096492438412,
          -0.838927386639927,
          -0.8490464601186973,
          -0.8588632672204253,
          -0.8683743130942925,
          -0.8775762117425773,
          -0.886465687226098,
          -0.8950395748304678,
          -0.903294822192752,
          -0.9112284903881351,
          -0.918837754976196,
          -0.9261199070064257,
          -0.9330723539826369,
          -0.9396926207859078,
          -0.9459783505557422,
          -0.9519273055291262,
          -0.9575373678371905,
          -0.9628065402591842,
          -0.9677329469334985,
          -0.9723148340254887,
          -0.9765505703518492,
          -0.9804386479613265,
          -0.9839776826715613,
          -0.9871664145618657,
          -0.9900037084217637,
          -0.9924885541551349,
          -0.9946200671398147,
          -0.9963974885425264,
          -0.9978201855890306,
          -0.9988876517893978,
          -0.9995995071183216,
          -0.999955498150411,
          -0.999955498150411,
          -0.9995995071183217,
          -0.9988876517893979,
          -0.9978201855890309,
          -0.9963974885425265,
          -0.9946200671398149,
          -0.9924885541551351,
          -0.9900037084217641,
          -0.9871664145618658,
          -0.9839776826715617,
          -0.9804386479613271,
          -0.9765505703518494,
          -0.9723148340254892,
          -0.9677329469334992,
          -0.9628065402591844,
          -0.9575373678371911,
          -0.951927305529127,
          -0.9459783505557424,
          -0.9396926207859086,
          -0.9330723539826378,
          -0.9261199070064267,
          -0.9188377549761964,
          -0.9112284903881362,
          -0.9032948221927531,
          -0.8950395748304681,
          -0.8864656872260992,
          -0.8775762117425784,
          -0.8683743130942929,
          -0.8588632672204265,
          -0.8490464601186987,
          -0.8389273866399274,
          -0.8285096492438426,
          -0.8177969567165786,
          -0.8067931228503253,
          -0.7955020650855903,
          -0.7839278031165664,
          -0.7720744574600873,
          -0.7599462479886978,
          -0.7475474924283543,
          -0.734882604821277,
          -0.7219560939545248,
          -0.708772561754839,
          -0.695336701650319,
          -0.681653296899533,
          -0.6677272188886492,
          -0.6535634253971804,
          -0.6391669588329865,
          -0.6245429444371395,
          -0.609696588459308,
          -0.5946331763042881,
          -0.5793580706503675,
          -0.5638767095401789,
          -0.5481946044447112,
          -0.5323173383011924,
          -0.5162505635255297,
          -0.5000000000000014,
          -0.4835714330369447,
          -0.46697071131914886,
          -0.4502037448176746,
          -0.43327650268786877,
          -0.4161950111443084,
          -0.3989653513154176,
          -0.38159365707855025,
          -0.3640861128762844,
          -0.34644895151472466,
          -0.3286884519445705,
          -0.31081093702577167,
          -0.29282277127655143,
          -0.27473035860758444,
          -0.25654014004216547,
          -0.23825859142316594,
          -0.21989222110757914,
          -0.20144756764950547,
          -0.18293119747238748,
          -0.1643497025313075,
          -0.14570969796621333,
          -0.12701781974687945,
          -0.1082807223104631,
          -0.08950507619246842,
          -0.07069756565199525,
          -0.051864886292102175,
          -0.03301374267611523,
          -0.014150845940762564,
          0.004717088593031068,
          0.02358334381085534,
          0.04244120319614797,
          0.06128395322131544,
          0.08010488573780565,
          0.09889730036424782,
          0.11765450687183782,
          0.13636982756609864,
          0.15503659966419603,
          0.17364817766692975,
          0.19219793572457172,
          0.21067926999572464,
          0.2290856009983295,
          0.24741037595200138,
          0.26564707111087477,
          0.28378919408609643,
          0.30183028615715585,
          0.31976392457124386,
          0.3375837248297903,
          0.35528334296139286,
          0.37285647778030734,
          0.3902968731297237,
          0.4075983201089956,
          0.42475465928404665,
          0.44175978288018153,
          0.45860763695649037,
          0.47529222356108897,
          0.49180760286644026,
          0.5081478952839689,
          0.5243072835572309,
          0.5402800148329057,
          0.5560604027088458,
          0.571642829258478,
          0.5870217470308174,
          0.602191681025408,
          0.6171472306414546,
          0.6318830716004712,
          0.6463939578417678,
          0.660674723390081,
          0.6747202841946917,
          0.6885256399393909,
          0.7020858758226222,
          0.7153961643071812,
          0.7284517668388598,
          0.7412480355333988,
          0.753780414831169,
          0.7660444431189771,
          0.7780357543184383,
          0.7897500794403256,
          0.8011832481043567,
          0.8123311900238849,
          0.8231899364549449,
          0.833755621609151,
          0.8440244840299495,
          0.8539928679317206,
          0.8636572245012601,
          0.8730141131611874,
          0.8820602027948112,
          0.8907922729320279,
          0.8992072148958361,
          0.9073020329090435,
          0.9150738451607857,
          0.9225198848324682,
          0.9296375010827764,
          0.9364241599913921,
          0.9428774454610838,
          0.9489950600778582,
          0.9547748259288534,
          0.9602146853776892,
          0.9653127017970029,
          0.9700670602579007,
          0.974476068176083,
          0.9785381559144193,
          0.9822518773417477,
          0.9856159103477083,
          0.9886290573134224,
          0.9912902455378552,
          0.9935985276197029,
          0.9955530817946745,
          0.9971532122280462,
          0.998398349262383,
          0.99928804962034,
          0.9998219965624731,
          1,
          0.9998219965624732,
          0.9992880496203401,
          0.9983983492623832,
          0.9971532122280464,
          0.9955530817946747,
          0.9935985276197031,
          0.9912902455378555,
          0.9886290573134229,
          0.9856159103477088,
          0.9822518773417482,
          0.9785381559144198,
          0.9744760681760836,
          0.9700670602579009,
          0.9653127017970036,
          0.96021468537769,
          0.9547748259288542,
          0.948995060077859,
          0.9428774454610847,
          0.9364241599913931,
          0.9296375010827774,
          0.9225198848324692,
          0.9150738451607868,
          0.9073020329090447,
          0.8992072148958373,
          0.8907922729320292,
          0.8820602027948117,
          0.8730141131611887,
          0.8636572245012614,
          0.8539928679317219,
          0.8440244840299509,
          0.8337556216091524,
          0.8231899364549464,
          0.8123311900238864,
          0.8011832481043583,
          0.7897500794403272,
          0.77803575431844,
          0.7660444431189788,
          0.7537804148311706,
          0.7412480355334006,
          0.7284517668388617,
          0.7153961643071831,
          0.7020858758226242,
          0.6885256399393929,
          0.6747202841946938,
          0.660674723390083,
          0.6463939578417699,
          0.6318830716004733,
          0.6171472306414568,
          0.6021916810254102,
          0.5870217470308198,
          0.5716428292584803,
          0.5560604027088482,
          0.540280014832908,
          0.5243072835572332,
          0.5081478952839713,
          0.49180760286644265,
          0.4752922235610914,
          0.4586076369564928,
          0.441759782880184,
          0.4247546592840492,
          0.4075983201089981,
          0.3902968731297263,
          0.3728564777803099,
          0.3552833429613954,
          0.33758372482979293,
          0.31976392457124647,
          0.3018302861571585,
          0.28378919408609743,
          0.26564707111087743,
          0.24741037595200407,
          0.22908560099833217,
          0.21067926999572734,
          0.19219793572457441,
          0.17364817766693244,
          0.15503659966419872,
          0.13636982756610136,
          0.11765450687184056,
          0.09889730036425057,
          0.08010488573780841,
          0.061283953221318195,
          0.04244120319614895,
          0.0235833438108581,
          0.004717088593033824,
          -0.014150845940759807,
          -0.033013742676112484,
          -0.05186488629209943,
          -0.07069756565199249,
          -0.08950507619246567,
          -0.10828072231046035,
          -0.1270178197468767,
          -0.1457096979662106,
          -0.1643497025313048,
          -0.1829311974723848,
          -0.20144756764950453,
          -0.21989222110757647,
          -0.23825859142316325,
          -0.2565401400421628,
          -0.27473035860758177,
          -0.29282277127654877,
          -0.31081093702576906,
          -0.3286884519445679,
          -0.34644895151472205,
          -0.36408611287628184,
          -0.3815936570785477,
          -0.39896535131541505,
          -0.41619501114430585,
          -0.4332765026878679,
          -0.4502037448176721,
          -0.46697071131914636,
          -0.4835714330369423,
          -0.499999999999999,
          -0.5162505635255272,
          -0.5323173383011901,
          -0.5481946044447089,
          -0.5638767095401765,
          -0.5793580706503652,
          -0.5946331763042859,
          -0.6096965884593057,
          -0.6245429444371373,
          -0.6391669588329844,
          -0.6535634253971783,
          -0.6677272188886471,
          -0.681653296899531,
          -0.695336701650317,
          -0.708772561754837,
          -0.7219560939545229,
          -0.7348826048212751,
          -0.7475474924283524,
          -0.759946247988696,
          -0.7720744574600855,
          -0.7839278031165647,
          -0.7955020650855886,
          -0.8067931228503238,
          -0.8177969567165769,
          -0.828509649243841,
          -0.8389273866399259,
          -0.8490464601186971,
          -0.858863267220425,
          -0.8683743130942915,
          -0.877576211742577,
          -0.8864656872260979,
          -0.8950395748304669,
          -0.9032948221927519,
          -0.911228490388135,
          -0.9188377549761952,
          -0.9261199070064255,
          -0.9330723539826369,
          -0.9396926207859078,
          -0.9459783505557421,
          -0.9519273055291261,
          -0.9575373678371903,
          -0.9628065402591837,
          -0.9677329469334985,
          -0.9723148340254886,
          -0.9765505703518488,
          -0.9804386479613265,
          -0.9839776826715612,
          -0.9871664145618654,
          -0.9900037084217637,
          -0.9924885541551348,
          -0.9946200671398147,
          -0.9963974885425264,
          -0.9978201855890306,
          -0.9988876517893978,
          -0.9995995071183216,
          -0.999955498150411,
          -0.999955498150411,
          -0.9995995071183217,
          -0.9988876517893979,
          -0.9978201855890309,
          -0.9963974885425266,
          -0.994620067139815,
          -0.9924885541551353,
          -0.9900037084217641,
          -0.9871664145618658,
          -0.9839776826715617,
          -0.9804386479613271,
          -0.9765505703518499,
          -0.9723148340254892,
          -0.9677329469334993,
          -0.962806540259185,
          -0.9575373678371912,
          -0.9519273055291275,
          -0.9459783505557431,
          -0.9396926207859088,
          -0.9330723539826385,
          -0.9261199070064268,
          -0.9188377549761964,
          -0.911228490388137,
          -0.9032948221927533,
          -0.8950395748304683,
          -0.8864656872261001,
          -0.8775762117425786,
          -0.868374313094293,
          -0.8588632672204276,
          -0.8490464601186988,
          -0.8389273866399276,
          -0.8285096492438437,
          -0.8177969567165787,
          -0.8067931228503245,
          -0.7955020650855916,
          -0.7839278031165666,
          -0.7720744574600864,
          -0.7599462479886993,
          -0.7475474924283545,
          -0.734882604821276,
          -0.7219560939545262,
          -0.7087725617548393,
          -0.6953367016503179,
          -0.6816532968995346,
          -0.6677272188886493,
          -0.6535634253971818,
          -0.6391669588329867,
          -0.6245429444371396,
          -0.6096965884593095,
          -0.5946331763042882,
          -0.5793580706503676,
          -0.5638767095401804,
          -0.5481946044447115,
          -0.5323173383011927,
          -0.5162505635255313,
          -0.5000000000000016,
          -0.4835714330369449,
          -0.46697071131915063,
          -0.45020374481767483,
          -0.433276502687869,
          -0.41619501114431023,
          -0.39896535131541777,
          -0.3815936570785488,
          -0.3640861128762863,
          -0.3464489515147249,
          -0.3286884519445691,
          -0.31081093702577356,
          -0.29282277127655165,
          -0.27473035860758294,
          -0.2565401400421674,
          -0.23825859142316616,
          -0.2198922211075811,
          -0.20144756764950747,
          -0.18293119747238773,
          -0.1643497025313095,
          -0.14570969796621358,
          -0.1270178197468797,
          -0.10828072231046511,
          -0.08950507619246867,
          -0.0706975656519955,
          -0.051864886292104194,
          -0.033013742676115475,
          -0.014150845940762808,
          0.004717088593029046,
          0.023583343810855098,
          0.04244120319614773,
          0.06128395322131343,
          0.0801048857378054,
          0.09889730036424933,
          0.1176545068718358,
          0.1363698275660984,
          0.15503659966419753,
          0.17364817766692775,
          0.19219793572457147,
          0.21067926999572614,
          0.22908560099832753,
          0.24741037595200116,
          0.2656470711108728,
          0.28378919408609454,
          0.3018302861571556,
          0.319763924571242,
          0.33758372482979015,
          0.35528334296139263,
          0.3728564777803055,
          0.39029687312972355,
          0.4075983201089954,
          0.4247546592840449,
          0.4417597828801813,
          0.45860763695649015,
          0.4752922235610872,
          0.49180760286644004,
          0.5081478952839688,
          0.5243072835572291,
          0.5402800148329054,
          0.5560604027088472,
          0.5716428292584763,
          0.5870217470308173,
          0.6021916810254092,
          0.617147230641453,
          0.631883071600471,
          0.646393957841769,
          0.6606747233900795,
          0.6747202841946915,
          0.688525639939392,
          0.7020858758226207,
          0.7153961643071811,
          0.7284517668388584,
          0.7412480355333986,
          0.7537804148311686,
          0.7660444431189758,
          0.7780357543184381,
          0.7897500794403254,
          0.8011832481043555,
          0.8123311900238847,
          0.8231899364549448,
          0.8337556216091497,
          0.8440244840299492,
          0.8539928679317204,
          0.863657224501259,
          0.8730141131611873,
          0.8820602027948111,
          0.890792272932027,
          0.899207214895836,
          0.9073020329090442,
          0.9150738451607849,
          0.922519884832468,
          0.929637501082777,
          0.9364241599913914,
          0.9428774454610837,
          0.9489950600778587,
          0.9547748259288528,
          0.9602146853776891,
          0.9653127017970023,
          0.9700670602579002,
          0.9744760681760829,
          0.978538155914419,
          0.9822518773417477,
          0.9856159103477082,
          0.9886290573134222,
          0.9912902455378552,
          0.9935985276197028,
          0.9955530817946743,
          0.9971532122280462,
          0.998398349262383,
          0.9992880496203399,
          0.9998219965624731,
          1
         ]
        }
       ],
       "layout": {
        "autosize": true,
        "template": {
         "data": {
          "bar": [
           {
            "error_x": {
             "color": "#2a3f5f"
            },
            "error_y": {
             "color": "#2a3f5f"
            },
            "marker": {
             "line": {
              "color": "#E5ECF6",
              "width": 0.5
             }
            },
            "type": "bar"
           }
          ],
          "barpolar": [
           {
            "marker": {
             "line": {
              "color": "#E5ECF6",
              "width": 0.5
             }
            },
            "type": "barpolar"
           }
          ],
          "carpet": [
           {
            "aaxis": {
             "endlinecolor": "#2a3f5f",
             "gridcolor": "white",
             "linecolor": "white",
             "minorgridcolor": "white",
             "startlinecolor": "#2a3f5f"
            },
            "baxis": {
             "endlinecolor": "#2a3f5f",
             "gridcolor": "white",
             "linecolor": "white",
             "minorgridcolor": "white",
             "startlinecolor": "#2a3f5f"
            },
            "type": "carpet"
           }
          ],
          "choropleth": [
           {
            "colorbar": {
             "outlinewidth": 0,
             "ticks": ""
            },
            "type": "choropleth"
           }
          ],
          "contour": [
           {
            "colorbar": {
             "outlinewidth": 0,
             "ticks": ""
            },
            "colorscale": [
             [
              0,
              "#0d0887"
             ],
             [
              0.1111111111111111,
              "#46039f"
             ],
             [
              0.2222222222222222,
              "#7201a8"
             ],
             [
              0.3333333333333333,
              "#9c179e"
             ],
             [
              0.4444444444444444,
              "#bd3786"
             ],
             [
              0.5555555555555556,
              "#d8576b"
             ],
             [
              0.6666666666666666,
              "#ed7953"
             ],
             [
              0.7777777777777778,
              "#fb9f3a"
             ],
             [
              0.8888888888888888,
              "#fdca26"
             ],
             [
              1,
              "#f0f921"
             ]
            ],
            "type": "contour"
           }
          ],
          "contourcarpet": [
           {
            "colorbar": {
             "outlinewidth": 0,
             "ticks": ""
            },
            "type": "contourcarpet"
           }
          ],
          "heatmap": [
           {
            "colorbar": {
             "outlinewidth": 0,
             "ticks": ""
            },
            "colorscale": [
             [
              0,
              "#0d0887"
             ],
             [
              0.1111111111111111,
              "#46039f"
             ],
             [
              0.2222222222222222,
              "#7201a8"
             ],
             [
              0.3333333333333333,
              "#9c179e"
             ],
             [
              0.4444444444444444,
              "#bd3786"
             ],
             [
              0.5555555555555556,
              "#d8576b"
             ],
             [
              0.6666666666666666,
              "#ed7953"
             ],
             [
              0.7777777777777778,
              "#fb9f3a"
             ],
             [
              0.8888888888888888,
              "#fdca26"
             ],
             [
              1,
              "#f0f921"
             ]
            ],
            "type": "heatmap"
           }
          ],
          "heatmapgl": [
           {
            "colorbar": {
             "outlinewidth": 0,
             "ticks": ""
            },
            "colorscale": [
             [
              0,
              "#0d0887"
             ],
             [
              0.1111111111111111,
              "#46039f"
             ],
             [
              0.2222222222222222,
              "#7201a8"
             ],
             [
              0.3333333333333333,
              "#9c179e"
             ],
             [
              0.4444444444444444,
              "#bd3786"
             ],
             [
              0.5555555555555556,
              "#d8576b"
             ],
             [
              0.6666666666666666,
              "#ed7953"
             ],
             [
              0.7777777777777778,
              "#fb9f3a"
             ],
             [
              0.8888888888888888,
              "#fdca26"
             ],
             [
              1,
              "#f0f921"
             ]
            ],
            "type": "heatmapgl"
           }
          ],
          "histogram": [
           {
            "marker": {
             "colorbar": {
              "outlinewidth": 0,
              "ticks": ""
             }
            },
            "type": "histogram"
           }
          ],
          "histogram2d": [
           {
            "colorbar": {
             "outlinewidth": 0,
             "ticks": ""
            },
            "colorscale": [
             [
              0,
              "#0d0887"
             ],
             [
              0.1111111111111111,
              "#46039f"
             ],
             [
              0.2222222222222222,
              "#7201a8"
             ],
             [
              0.3333333333333333,
              "#9c179e"
             ],
             [
              0.4444444444444444,
              "#bd3786"
             ],
             [
              0.5555555555555556,
              "#d8576b"
             ],
             [
              0.6666666666666666,
              "#ed7953"
             ],
             [
              0.7777777777777778,
              "#fb9f3a"
             ],
             [
              0.8888888888888888,
              "#fdca26"
             ],
             [
              1,
              "#f0f921"
             ]
            ],
            "type": "histogram2d"
           }
          ],
          "histogram2dcontour": [
           {
            "colorbar": {
             "outlinewidth": 0,
             "ticks": ""
            },
            "colorscale": [
             [
              0,
              "#0d0887"
             ],
             [
              0.1111111111111111,
              "#46039f"
             ],
             [
              0.2222222222222222,
              "#7201a8"
             ],
             [
              0.3333333333333333,
              "#9c179e"
             ],
             [
              0.4444444444444444,
              "#bd3786"
             ],
             [
              0.5555555555555556,
              "#d8576b"
             ],
             [
              0.6666666666666666,
              "#ed7953"
             ],
             [
              0.7777777777777778,
              "#fb9f3a"
             ],
             [
              0.8888888888888888,
              "#fdca26"
             ],
             [
              1,
              "#f0f921"
             ]
            ],
            "type": "histogram2dcontour"
           }
          ],
          "mesh3d": [
           {
            "colorbar": {
             "outlinewidth": 0,
             "ticks": ""
            },
            "type": "mesh3d"
           }
          ],
          "parcoords": [
           {
            "line": {
             "colorbar": {
              "outlinewidth": 0,
              "ticks": ""
             }
            },
            "type": "parcoords"
           }
          ],
          "scatter": [
           {
            "marker": {
             "colorbar": {
              "outlinewidth": 0,
              "ticks": ""
             }
            },
            "type": "scatter"
           }
          ],
          "scatter3d": [
           {
            "line": {
             "colorbar": {
              "outlinewidth": 0,
              "ticks": ""
             }
            },
            "marker": {
             "colorbar": {
              "outlinewidth": 0,
              "ticks": ""
             }
            },
            "type": "scatter3d"
           }
          ],
          "scattercarpet": [
           {
            "marker": {
             "colorbar": {
              "outlinewidth": 0,
              "ticks": ""
             }
            },
            "type": "scattercarpet"
           }
          ],
          "scattergeo": [
           {
            "marker": {
             "colorbar": {
              "outlinewidth": 0,
              "ticks": ""
             }
            },
            "type": "scattergeo"
           }
          ],
          "scattergl": [
           {
            "marker": {
             "colorbar": {
              "outlinewidth": 0,
              "ticks": ""
             }
            },
            "type": "scattergl"
           }
          ],
          "scattermapbox": [
           {
            "marker": {
             "colorbar": {
              "outlinewidth": 0,
              "ticks": ""
             }
            },
            "type": "scattermapbox"
           }
          ],
          "scatterpolar": [
           {
            "marker": {
             "colorbar": {
              "outlinewidth": 0,
              "ticks": ""
             }
            },
            "type": "scatterpolar"
           }
          ],
          "scatterpolargl": [
           {
            "marker": {
             "colorbar": {
              "outlinewidth": 0,
              "ticks": ""
             }
            },
            "type": "scatterpolargl"
           }
          ],
          "scatterternary": [
           {
            "marker": {
             "colorbar": {
              "outlinewidth": 0,
              "ticks": ""
             }
            },
            "type": "scatterternary"
           }
          ],
          "surface": [
           {
            "colorbar": {
             "outlinewidth": 0,
             "ticks": ""
            },
            "colorscale": [
             [
              0,
              "#0d0887"
             ],
             [
              0.1111111111111111,
              "#46039f"
             ],
             [
              0.2222222222222222,
              "#7201a8"
             ],
             [
              0.3333333333333333,
              "#9c179e"
             ],
             [
              0.4444444444444444,
              "#bd3786"
             ],
             [
              0.5555555555555556,
              "#d8576b"
             ],
             [
              0.6666666666666666,
              "#ed7953"
             ],
             [
              0.7777777777777778,
              "#fb9f3a"
             ],
             [
              0.8888888888888888,
              "#fdca26"
             ],
             [
              1,
              "#f0f921"
             ]
            ],
            "type": "surface"
           }
          ],
          "table": [
           {
            "cells": {
             "fill": {
              "color": "#EBF0F8"
             },
             "line": {
              "color": "white"
             }
            },
            "header": {
             "fill": {
              "color": "#C8D4E3"
             },
             "line": {
              "color": "white"
             }
            },
            "type": "table"
           }
          ]
         },
         "layout": {
          "annotationdefaults": {
           "arrowcolor": "#2a3f5f",
           "arrowhead": 0,
           "arrowwidth": 1
          },
          "colorscale": {
           "diverging": [
            [
             0,
             "#8e0152"
            ],
            [
             0.1,
             "#c51b7d"
            ],
            [
             0.2,
             "#de77ae"
            ],
            [
             0.3,
             "#f1b6da"
            ],
            [
             0.4,
             "#fde0ef"
            ],
            [
             0.5,
             "#f7f7f7"
            ],
            [
             0.6,
             "#e6f5d0"
            ],
            [
             0.7,
             "#b8e186"
            ],
            [
             0.8,
             "#7fbc41"
            ],
            [
             0.9,
             "#4d9221"
            ],
            [
             1,
             "#276419"
            ]
           ],
           "sequential": [
            [
             0,
             "#0d0887"
            ],
            [
             0.1111111111111111,
             "#46039f"
            ],
            [
             0.2222222222222222,
             "#7201a8"
            ],
            [
             0.3333333333333333,
             "#9c179e"
            ],
            [
             0.4444444444444444,
             "#bd3786"
            ],
            [
             0.5555555555555556,
             "#d8576b"
            ],
            [
             0.6666666666666666,
             "#ed7953"
            ],
            [
             0.7777777777777778,
             "#fb9f3a"
            ],
            [
             0.8888888888888888,
             "#fdca26"
            ],
            [
             1,
             "#f0f921"
            ]
           ],
           "sequentialminus": [
            [
             0,
             "#0d0887"
            ],
            [
             0.1111111111111111,
             "#46039f"
            ],
            [
             0.2222222222222222,
             "#7201a8"
            ],
            [
             0.3333333333333333,
             "#9c179e"
            ],
            [
             0.4444444444444444,
             "#bd3786"
            ],
            [
             0.5555555555555556,
             "#d8576b"
            ],
            [
             0.6666666666666666,
             "#ed7953"
            ],
            [
             0.7777777777777778,
             "#fb9f3a"
            ],
            [
             0.8888888888888888,
             "#fdca26"
            ],
            [
             1,
             "#f0f921"
            ]
           ]
          },
          "colorway": [
           "#636efa",
           "#EF553B",
           "#00cc96",
           "#ab63fa",
           "#FFA15A",
           "#19d3f3",
           "#FF6692",
           "#B6E880",
           "#FF97FF",
           "#FECB52"
          ],
          "font": {
           "color": "#2a3f5f"
          },
          "geo": {
           "bgcolor": "white",
           "lakecolor": "white",
           "landcolor": "#E5ECF6",
           "showlakes": true,
           "showland": true,
           "subunitcolor": "white"
          },
          "hoverlabel": {
           "align": "left"
          },
          "hovermode": "closest",
          "mapbox": {
           "style": "light"
          },
          "paper_bgcolor": "white",
          "plot_bgcolor": "#E5ECF6",
          "polar": {
           "angularaxis": {
            "gridcolor": "white",
            "linecolor": "white",
            "ticks": ""
           },
           "bgcolor": "#E5ECF6",
           "radialaxis": {
            "gridcolor": "white",
            "linecolor": "white",
            "ticks": ""
           }
          },
          "scene": {
           "xaxis": {
            "backgroundcolor": "#E5ECF6",
            "gridcolor": "white",
            "gridwidth": 2,
            "linecolor": "white",
            "showbackground": true,
            "ticks": "",
            "zerolinecolor": "white"
           },
           "yaxis": {
            "backgroundcolor": "#E5ECF6",
            "gridcolor": "white",
            "gridwidth": 2,
            "linecolor": "white",
            "showbackground": true,
            "ticks": "",
            "zerolinecolor": "white"
           },
           "zaxis": {
            "backgroundcolor": "#E5ECF6",
            "gridcolor": "white",
            "gridwidth": 2,
            "linecolor": "white",
            "showbackground": true,
            "ticks": "",
            "zerolinecolor": "white"
           }
          },
          "shapedefaults": {
           "line": {
            "color": "#2a3f5f"
           }
          },
          "ternary": {
           "aaxis": {
            "gridcolor": "white",
            "linecolor": "white",
            "ticks": ""
           },
           "baxis": {
            "gridcolor": "white",
            "linecolor": "white",
            "ticks": ""
           },
           "bgcolor": "#E5ECF6",
           "caxis": {
            "gridcolor": "white",
            "linecolor": "white",
            "ticks": ""
           }
          },
          "title": {
           "x": 0.05
          },
          "xaxis": {
           "automargin": true,
           "gridcolor": "white",
           "linecolor": "white",
           "ticks": "",
           "zerolinecolor": "white",
           "zerolinewidth": 2
          },
          "yaxis": {
           "automargin": true,
           "gridcolor": "white",
           "linecolor": "white",
           "ticks": "",
           "zerolinecolor": "white",
           "zerolinewidth": 2
          }
         }
        },
        "xaxis": {
         "autorange": true,
         "range": [
          0,
          18.84955592153876
         ],
         "showspikes": false,
         "title": {
          "text": "cool stuff"
         },
         "type": "linear"
        },
        "yaxis": {
         "autorange": true,
         "range": [
          -1.1110641369365448,
          1.111108638786134
         ],
         "showspikes": false,
         "title": {
          "text": "this is sweet"
         },
         "type": "linear"
        }
       }
      },
      "image/png": "[encoded data removed]"
     },
     "metadata": {},
     "output_type": "display_data"
    }
   ],
   "source": [
    "fig = go.Figure(\n",
    "    data = go.Scatter(x=x, y=y),\n",
    "    layout = go.Layout(\n",
    "        xaxis = {\"title\":\"cool stuff\"},\n",
    "        yaxis = {\"title\":\"this is sweet\"}\n",
    "    )\n",
    ")\n",
    "fig.show()"
   ]
  },
  {
   "cell_type": "markdown",
   "metadata": {},
   "source": [
    "# Widgets Don't Seem to Work!!!"
   ]
  },
  {
   "cell_type": "code",
   "execution_count": 28,
   "metadata": {},
   "outputs": [],
   "source": [
    "%matplotlib widget"
   ]
  },
  {
   "cell_type": "code",
   "execution_count": 27,
   "metadata": {},
   "outputs": [
    {
     "data": {
      "application/vnd.jupyter.widget-view+json": {
       "model_id": "94a8945c4dba4741b67f9fb780d8b2eb",
       "version_major": 2,
       "version_minor": 0
      },
      "text/plain": [
       "VBox(children=(Dropdown(description='Commodity', options=('beans', 'corn'), value='beans'), FigureWidget({\n",
       "   …"
      ]
     },
     "metadata": {},
     "output_type": "display_data"
    }
   ],
   "source": [
    "import pandas as pd\n",
    "import plotly.graph_objs as go\n",
    "import ipywidgets as widgets\n",
    "\n",
    "df = pd.DataFrame({'cmdty' : ['beans', 'beans', 'beans', 'corn', 'corn', 'corn'],\n",
    "                'month' : [1, 2, 3, 1, 2, 3],\n",
    "                'value' : [10.5, 3.5, 8.0, 5.0, 8.75, 5.75]})\n",
    "\n",
    "items = df.cmdty.unique().tolist()\n",
    "\n",
    "cmdty = widgets.Dropdown(options=items,\n",
    "                    description='Commodity')\n",
    "\n",
    "def response(change):\n",
    "    c = cmdty.value\n",
    "    df_tmp = df[df.cmdty == c]\n",
    "    x0 = df_tmp['month'] # Useless here as x is equal for the 2 commodities\n",
    "    x1 = df_tmp['value']\n",
    "    fig.data[0].x = x0 # Useless here as x is equal for the 2 commodities\n",
    "    fig.data[0].y = x1\n",
    "\n",
    "fig = go.FigureWidget(data=[{'type' : 'scatter'}])\n",
    "cmdty.observe(response, names='value')\n",
    "display(widgets.VBox([cmdty, fig]))"
   ]
  }
 ],
 "metadata": {
  "kernelspec": {
   "display_name": "Python [conda env:data-sci]",
   "language": "python",
   "name": "conda-env-data-sci-py"
  },
  "language_info": {
   "codemirror_mode": {
    "name": "ipython",
    "version": 3
   },
   "file_extension": ".py",
   "mimetype": "text/x-python",
   "name": "python",
   "nbconvert_exporter": "python",
   "pygments_lexer": "ipython3",
   "version": "3.7.4"
  }
 },
 "nbformat": 4,
 "nbformat_minor": 4
}
